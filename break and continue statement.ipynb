{
 "cells": [
  {
   "cell_type": "code",
   "execution_count": 18,
   "id": "9c767412-0f2f-410c-b8a8-ee2163c61cfb",
   "metadata": {},
   "outputs": [
    {
     "name": "stdout",
     "output_type": "stream",
     "text": [
      "0\n",
      "1\n",
      "2\n",
      "3\n",
      "4\n",
      "5\n"
     ]
    }
   ],
   "source": [
    "#Write a program to print numbers from 1 to 10, but stop if the number is 5.\n",
    "\n",
    "for i in range (10):\n",
    "    if i==6:\n",
    "        break\n",
    "    print(i)"
   ]
  },
  {
   "cell_type": "code",
   "execution_count": 20,
   "id": "5afb3ff9-83e1-4baa-b74d-6c5bf48986b4",
   "metadata": {},
   "outputs": [
    {
     "name": "stdout",
     "output_type": "stream",
     "text": [
      "1\n",
      "2\n",
      "3\n",
      "Encountered the stop element: 4\n"
     ]
    }
   ],
   "source": [
    "#Write a program to iterate through a list and stop when encountering a specific element.\n",
    "def iterate_until_element(my_list, stop_element):\n",
    "    for element in my_list:\n",
    "        if element == stop_element:\n",
    "            print(f\"Encountered the stop element: {stop_element}\")\n",
    "            break\n",
    "        print(element)\n",
    "\n",
    "\n",
    "my_list = [1,2,3,4,5,6]\n",
    "stop_element = 4\n",
    "iterate_until_element(my_list,stop_element)"
   ]
  },
  {
   "cell_type": "code",
   "execution_count": 21,
   "id": "89493010-d720-4e06-b51d-b8f7ae432723",
   "metadata": {},
   "outputs": [
    {
     "name": "stdout",
     "output_type": "stream",
     "text": [
      "1\n",
      "3\n",
      "5\n",
      "7\n",
      "9\n"
     ]
    }
   ],
   "source": [
    "#Write a program to skip printing even numbers from 1 to 10.\n",
    "\n",
    "for i in range(10):\n",
    "    if i%2==0:\n",
    "        continue\n",
    "    print(i)"
   ]
  },
  {
   "cell_type": "code",
   "execution_count": 22,
   "id": "a1f83901-4b6d-478e-95aa-18081476642d",
   "metadata": {},
   "outputs": [
    {
     "name": "stdout",
     "output_type": "stream",
     "text": [
      "0\n",
      "1\n",
      "2\n",
      "3\n",
      "4\n",
      "5\n",
      "6\n",
      "7\n",
      "8\n",
      "9\n"
     ]
    }
   ],
   "source": [
    "#Write a program to print numbers from 0 to 9 using range().\n",
    "\n",
    "for i in range(0,10):\n",
    "    print(i)"
   ]
  },
  {
   "cell_type": "code",
   "execution_count": null,
   "id": "64a52567-6746-48a4-a186-4e9b63d74aee",
   "metadata": {},
   "outputs": [],
   "source": [
    "#Write a program to print multiplication tables from 1 to 5, but stop after the first table is printed for each\n",
    "number."
   ]
  },
  {
   "cell_type": "code",
   "execution_count": 27,
   "id": "1046e76e-8961-4497-93f4-f72857f3cf60",
   "metadata": {},
   "outputs": [
    {
     "name": "stdout",
     "output_type": "stream",
     "text": [
      "1 * 1 = 1\n",
      "2 * 1 = 2\n",
      "3 * 1 = 3\n",
      "4 * 1 = 4\n",
      "5 * 1 = 5\n"
     ]
    }
   ],
   "source": [
    "def print_multiplication_tables():\n",
    "    for i in range(1, 6):  # Iterate through numbers 1 to 5\n",
    "        print(f\"{i} * 1 = {i * 1}\")\n",
    "        \n",
    "print_multiplication_tables()"
   ]
  },
  {
   "cell_type": "code",
   "execution_count": 29,
   "id": "c9458994-e97f-457f-a907-e88c104077bc",
   "metadata": {},
   "outputs": [
    {
     "name": "stdout",
     "output_type": "stream",
     "text": [
      "1\n",
      "3\n",
      "5\n",
      "7\n",
      "9\n"
     ]
    }
   ],
   "source": [
    "#Write a program to skip printing even numbers using a while loop.\n",
    "\n",
    "\n",
    "def skip_even_numbers(limit):\n",
    "    num = 1  # Start with 1\n",
    "    while num <= limit:\n",
    "        if num % 2 == 0:\n",
    "            num += 1\n",
    "            continue  # Skip the current iteration for even numbers\n",
    "        print(num)\n",
    "        num += 1\n",
    "        \n",
    "skip_even_numbers(10)"
   ]
  },
  {
   "cell_type": "code",
   "execution_count": null,
   "id": "97706179-f145-4aab-b1a1-c434fb3373f9",
   "metadata": {},
   "outputs": [],
   "source": []
  },
  {
   "cell_type": "code",
   "execution_count": null,
   "id": "3de058d9-bb0d-4b92-9586-afc2cd07213e",
   "metadata": {},
   "outputs": [],
   "source": []
  }
 ],
 "metadata": {
  "kernelspec": {
   "display_name": "Python 3 (ipykernel)",
   "language": "python",
   "name": "python3"
  },
  "language_info": {
   "codemirror_mode": {
    "name": "ipython",
    "version": 3
   },
   "file_extension": ".py",
   "mimetype": "text/x-python",
   "name": "python",
   "nbconvert_exporter": "python",
   "pygments_lexer": "ipython3",
   "version": "3.10.8"
  }
 },
 "nbformat": 4,
 "nbformat_minor": 5
}
